{
 "cells": [
  {
   "cell_type": "markdown",
   "metadata": {},
   "source": [
    "#### By Rajitha"
   ]
  },
  {
   "cell_type": "markdown",
   "metadata": {},
   "source": [
    " # Fibonacci Series"
   ]
  },
  {
   "cell_type": "code",
   "execution_count": 1,
   "metadata": {},
   "outputs": [
    {
     "name": "stdout",
     "output_type": "stream",
     "text": [
      "enter till which term you need fibonacci series::10\n",
      "fibonacci series of 10term is:\n",
      "0 , 1 , 1 , 2 , 3 , 5 , 8 , 13 , 21 , 34 , "
     ]
    }
   ],
   "source": [
    "nth_term=int(input(\"enter till which term you need fibonacci series::\"))\n",
    "n1 = 0\n",
    "n2 = 1\n",
    "count = 0\n",
    "if nth_term<=0:\n",
    "    print(\"enter positive number\")\n",
    "elif nth_term==1:\n",
    "    print(\"{0} value is 0\".format( nth_term))\n",
    "else:\n",
    "    print(\"fibonacci series of {}term is:\".format(nth_term))\n",
    "    \n",
    "while count<nth_term:\n",
    "    print(n1,end=' , ')\n",
    "    nth=n1+n2\n",
    "    \n",
    "    n1=n2\n",
    "    n2=nth\n",
    "    count+=1\n"
   ]
  },
  {
   "cell_type": "code",
   "execution_count": null,
   "metadata": {
    "collapsed": true
   },
   "outputs": [],
   "source": []
  },
  {
   "cell_type": "code",
   "execution_count": null,
   "metadata": {
    "collapsed": true
   },
   "outputs": [],
   "source": []
  }
 ],
 "metadata": {
  "kernelspec": {
   "display_name": "Python 3",
   "language": "python",
   "name": "python3"
  },
  "language_info": {
   "codemirror_mode": {
    "name": "ipython",
    "version": 3
   },
   "file_extension": ".py",
   "mimetype": "text/x-python",
   "name": "python",
   "nbconvert_exporter": "python",
   "pygments_lexer": "ipython3",
   "version": "3.5.4"
  }
 },
 "nbformat": 4,
 "nbformat_minor": 2
}
